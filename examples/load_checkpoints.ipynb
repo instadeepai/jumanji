{
 "cells": [
  {
   "cell_type": "code",
   "execution_count": null,
   "metadata": {
    "collapsed": true,
    "jupyter": {
     "outputs_hidden": true
    },
    "pycharm": {
     "is_executing": true
    }
   },
   "outputs": [],
   "source": [
    "%pip install --quiet -U pip -r ../requirements/requirements-train.txt ../."
   ]
  },
  {
   "cell_type": "code",
   "execution_count": null,
   "metadata": {
    "collapsed": false,
    "jupyter": {
     "outputs_hidden": false
    },
    "pycharm": {
     "is_executing": true
    }
   },
   "outputs": [],
   "source": [
    "import pickle\n",
    "\n",
    "import jax\n",
    "from hydra import compose, initialize\n",
    "\n",
    "from jumanji.training.setup_train import setup_agent, setup_env\n",
    "from jumanji.training.utils import first_from_device"
   ]
  },
  {
   "cell_type": "markdown",
   "source": [
    "## Load configs"
   ],
   "metadata": {
    "collapsed": false
   }
  },
  {
   "cell_type": "code",
   "execution_count": 3,
   "metadata": {},
   "outputs": [
    {
     "data": {
      "text/plain": "{'agent': 'a2c', 'seed': 0, 'logger': {'type': 'terminal', 'save_checkpoint': False, 'name': '${agent}_${env.name}'}, 'env': {'name': 'connector', 'env_kwargs': None, 'network': {'transformer_num_blocks': 4, 'transformer_num_heads': 8, 'transformer_key_size': 16, 'transformer_mlp_units': [512], 'conv_n_channels': 32}, 'training': {'num_epochs': 500, 'num_learner_steps_per_epoch': 100, 'n_steps': 20, 'total_batch_size': 128}, 'evaluation': {'eval_total_batch_size': 5000, 'greedy_eval_total_batch_size': 5000}, 'a2c': {'normalize_advantage': False, 'discount_factor': 0.99, 'bootstrapping_factor': 0.95, 'l_pg': 1.0, 'l_td': 1.0, 'l_en': 0.01, 'learning_rate': 0.0002}}}"
     },
     "execution_count": 3,
     "metadata": {},
     "output_type": "execute_result"
    }
   ],
   "source": [
    "with initialize(version_base=None, config_path=\"../jumanji/training/configs\"):\n",
    "    cfg = compose(config_name=\"config.yaml\", overrides=[\"env=connector\", \"agent=a2c\"])\n",
    "cfg"
   ]
  },
  {
   "cell_type": "markdown",
   "source": [
    "## Load a saved checkpoint"
   ],
   "metadata": {
    "collapsed": false
   }
  },
  {
   "cell_type": "code",
   "execution_count": 4,
   "metadata": {},
   "outputs": [],
   "source": [
    "with open(\"training_state\",\"rb\") as f:\n",
    "    training_state = pickle.load(f)\n",
    "\n",
    "params = first_from_device(training_state.params_state.params)\n",
    "env = setup_env(cfg).unwrapped\n",
    "agent = setup_agent(cfg, env)\n",
    "policy = jax.jit(agent.make_policy(params.actor, stochastic = False))"
   ]
  },
  {
   "cell_type": "markdown",
   "source": [
    "## Rollout a few episodes"
   ],
   "metadata": {
    "collapsed": false
   }
  },
  {
   "cell_type": "code",
   "execution_count": 5,
   "metadata": {
    "tags": []
   },
   "outputs": [],
   "source": [
    "NUM_EPISODES = 10\n",
    "\n",
    "states = []\n",
    "key = jax.random.PRNGKey(cfg.seed)\n",
    "for episode in range(NUM_EPISODES):\n",
    "    key, reset_key = jax.random.split(key) \n",
    "    state, timestep = jax.jit(env.reset)(reset_key)\n",
    "    while not timestep.last():\n",
    "        key, action_key = jax.random.split(key)\n",
    "        observation = jax.tree_util.tree_map(lambda x: x[None], timestep.observation)\n",
    "        action, _ = policy(observation, action_key)\n",
    "        state, timestep = jax.jit(env.step)(state, action.squeeze(axis=0))\n",
    "        states.append(state)\n",
    "    # Freeze the terminal frame to pause the GIF.\n",
    "    for _ in range(10):\n",
    "        states.append(state)"
   ]
  },
  {
   "cell_type": "markdown",
   "source": [
    "## Save GIF"
   ],
   "metadata": {
    "collapsed": false
   }
  },
  {
   "cell_type": "code",
   "execution_count": null,
   "metadata": {
    "pycharm": {
     "is_executing": true
    }
   },
   "outputs": [],
   "source": [
    "env.animate(states, interval=150).save(\"./connector.gif\")"
   ]
  },
  {
   "cell_type": "markdown",
   "source": [
    "## Save PNG"
   ],
   "metadata": {
    "collapsed": false
   }
  },
  {
   "cell_type": "code",
   "execution_count": 7,
   "metadata": {},
   "outputs": [
    {
     "data": {
      "text/plain": "<Figure size 720x720 with 1 Axes>",
      "image/png": "[encoded data removed]"
     },
     "metadata": {
      "needs_background": "light"
     },
     "output_type": "display_data"
    }
   ],
   "source": [
    "import matplotlib.pyplot as plt\n",
    "%matplotlib inline\n",
    "env.render(states[117])\n",
    "plt.savefig(\"connector.png\", dpi=300)"
   ]
  }
 ],
 "metadata": {
  "kernelspec": {
   "display_name": "Python 3 (ipykernel)",
   "language": "python",
   "name": "python3"
  },
  "language_info": {
   "codemirror_mode": {
    "name": "ipython",
    "version": 3
   },
   "file_extension": ".py",
   "mimetype": "text/x-python",
   "name": "python",
   "nbconvert_exporter": "python",
   "pygments_lexer": "ipython3",
   "version": "3.9.15"
  }
 },
 "nbformat": 4,
 "nbformat_minor": 4
}
