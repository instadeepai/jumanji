{
 "cells": [
  {
   "cell_type": "code",
   "execution_count": 125,
   "metadata": {},
   "outputs": [],
   "source": [
    "import numpy as np"
   ]
  },
  {
   "attachments": {},
   "cell_type": "markdown",
   "metadata": {},
   "source": [
    "I would like my boards to be generated via a numpy array- having L-systems be used by casting a rule to each cell of the board, and recursively applying said rule."
   ]
  },
  {
   "cell_type": "code",
   "execution_count": 126,
   "metadata": {},
   "outputs": [
    {
     "data": {
      "text/plain": [
       "array([[0, 0, 0, 0, 0],\n",
       "       [0, 0, 0, 0, 0],\n",
       "       [0, 0, 0, 0, 0],\n",
       "       [0, 0, 0, 0, 0],\n",
       "       [0, 0, 0, 0, 0]])"
      ]
     },
     "execution_count": 126,
     "metadata": {},
     "output_type": "execute_result"
    }
   ],
   "source": [
    "def init_board(size:int=5):\n",
    "    return np.zeros(shape=(size,size), dtype=int)\n",
    "\n",
    "init_board(5)"
   ]
  },
  {
   "cell_type": "code",
   "execution_count": 143,
   "metadata": {},
   "outputs": [
    {
     "name": "stdout",
     "output_type": "stream",
     "text": [
      "[[0 0 0 0 0]\n",
      " [0 0 0 0 0]\n",
      " [0 0 3 0 0]\n",
      " [0 1 0 0 0]\n",
      " [2 0 0 0 0]]\n",
      "[[1, array([3, 1]), array([3, 1])], [2, array([4, 0]), array([4, 0])], [3, array([2, 2]), array([2, 2])]]\n"
     ]
    }
   ],
   "source": [
    "# unlike jumanji, each agent here is assigned one number\n",
    "# and use that number throughout the duration of the generation\n",
    "# a mapping is then done to create suitable jumanji boards\n",
    "# agents are thus for the following named by their number.\n",
    "\n",
    "def initialise_starting_points(board:np.ndarray, agent_count:int=3):\n",
    "    l = len(board) # board is assumed to be square\n",
    "    for agent in range(1, 1+agent_count):\n",
    "        tries = 0\n",
    "        while(1):\n",
    "            tries += 1\n",
    "            if tries == 100:\n",
    "                print(f'ERROR - NO BOARD SPACES FOUND AFTER {100} TRIES')\n",
    "                break\n",
    "\n",
    "            idx0 = np.random.randint(0, l)\n",
    "            idx1 = np.random.randint(0, l)\n",
    "            if board[idx0, idx1] != 0.0:\n",
    "                continue\n",
    "            else:\n",
    "                board[idx0, idx1] = agent\n",
    "                break\n",
    "    return board\n",
    "\n",
    "\n",
    "board_size = 5\n",
    "agent_count = 3\n",
    "\n",
    "board = init_board(board_size)\n",
    "board = initialise_starting_points(board, 3)\n",
    "print(board)\n",
    "\n",
    "\n",
    "def assign_agent_states(board, agent_count):\n",
    "    # each agent is going to be assigned a self-state \n",
    "    # as the following tuple: (number, head_pos, tail_pos)\n",
    "    agents = []\n",
    "    for agent in range(1, 1+agent_count):\n",
    "        pos = np.argwhere(board==agent)[0]\n",
    "        agents.append([agent, pos, pos])\n",
    "    return agents\n",
    "\n",
    "\n",
    "agents = assign_agent_states(board, agent_count)\n",
    "print(agents)"
   ]
  },
  {
   "attachments": {},
   "cell_type": "markdown",
   "metadata": {},
   "source": [
    "Q: what rules should be created to L-systemize this board? Substitution rules!!"
   ]
  },
  {
   "attachments": {},
   "cell_type": "markdown",
   "metadata": {},
   "source": [
    "1) push-out in a direction from one of the ends\n",
    "this should happen most of the time\n",
    "2) pull-in in a direction from one of the ends\n",
    "this should happen less-so\n",
    "3) How long should (1) and (2) occur for? What are good ratios of push and pull?\n",
    "4) Should (1) and (2) be coupled across agents? Should it just be per-agent?"
   ]
  },
  {
   "cell_type": "code",
   "execution_count": 144,
   "metadata": {},
   "outputs": [
    {
     "name": "stdout",
     "output_type": "stream",
     "text": [
      "[[0 0 0 0 0]\n",
      " [0 0 0 0 0]\n",
      " [0 0 3 0 0]\n",
      " [0 1 0 0 0]\n",
      " [2 0 0 0 0]]\n",
      "[3 1]\n"
     ]
    },
    {
     "data": {
      "text/plain": [
       "array([[2, 1],\n",
       "       [3, 0],\n",
       "       [3, 2],\n",
       "       [4, 1]])"
      ]
     },
     "execution_count": 144,
     "metadata": {},
     "output_type": "execute_result"
    }
   ],
   "source": [
    "def find_next_pos(board, loc):\n",
    "    empty_places = np.argwhere(board==0)\n",
    "    empty_place_distances = np.sqrt(np.sum((loc-empty_places)**2, axis=1))\n",
    "    empty_neighbour_places = np.argwhere(empty_place_distances<1.111)\n",
    "    empty_neighbour_coords = np.take(empty_places, empty_neighbour_places, axis=0)\n",
    "    return empty_neighbour_coords[:,0,:]\n",
    "    \n",
    "print(board)\n",
    "print(agents[0][1])\n",
    "nb_coords = find_next_pos(board, agents[0][1])\n",
    "nb_coords"
   ]
  },
  {
   "cell_type": "code",
   "execution_count": 145,
   "metadata": {},
   "outputs": [
    {
     "name": "stdout",
     "output_type": "stream",
     "text": [
      "[[0 0 0 0 0]\n",
      " [0 0 0 0 0]\n",
      " [0 0 3 0 0]\n",
      " [0 1 0 0 0]\n",
      " [2 0 0 0 0]] [2, array([4, 0]), array([4, 0])]\n"
     ]
    },
    {
     "data": {
      "text/plain": [
       "(array([[0, 0, 0, 0, 0],\n",
       "        [0, 0, 0, 0, 0],\n",
       "        [0, 0, 3, 0, 0],\n",
       "        [0, 1, 0, 0, 0],\n",
       "        [2, 2, 0, 0, 0]]),\n",
       " [2, array([4, 0]), array([4, 1])])"
      ]
     },
     "execution_count": 145,
     "metadata": {},
     "output_type": "execute_result"
    }
   ],
   "source": [
    "def push(board, agent):\n",
    "    growth_choice = np.random.randint(1, 3)\n",
    "    nbs = find_next_pos(board, agent[growth_choice])\n",
    "    try:\n",
    "        growth_direction = np.random.randint(0, len(nbs))\n",
    "    except:\n",
    "        return board, agent\n",
    "    board[tuple(nbs[growth_direction])] = agent[0]\n",
    "    agent[growth_choice] = nbs[growth_direction]\n",
    "    return board, agent\n",
    "\n",
    "print(board, agents[1])\n",
    "push(board, agents[1])"
   ]
  },
  {
   "cell_type": "code",
   "execution_count": 146,
   "metadata": {},
   "outputs": [
    {
     "name": "stdout",
     "output_type": "stream",
     "text": [
      "[[0 0 0 0 0]\n",
      " [0 0 0 0 0]\n",
      " [0 0 0 0 3]\n",
      " [0 0 2 1 0]\n",
      " [0 0 0 0 0]] \n",
      "\n",
      "[[0 0 0 0 0]\n",
      " [0 0 0 0 0]\n",
      " [0 0 0 0 3]\n",
      " [0 0 2 1 1]\n",
      " [0 0 0 0 0]] \n",
      "\n",
      "[[0 0 0 0 0]\n",
      " [0 0 0 0 0]\n",
      " [0 0 0 1 3]\n",
      " [0 0 2 1 1]\n",
      " [0 0 0 0 0]] \n",
      "\n",
      "[[0 0 0 0 0]\n",
      " [0 0 0 0 0]\n",
      " [0 0 1 1 3]\n",
      " [0 0 2 1 1]\n",
      " [0 0 0 0 0]] \n",
      "\n",
      "[[0 0 0 0 0]\n",
      " [0 0 0 0 0]\n",
      " [0 0 1 1 3]\n",
      " [0 0 2 1 1]\n",
      " [0 0 0 0 1]] \n",
      "\n",
      "[[0 0 0 0 0]\n",
      " [0 0 0 0 0]\n",
      " [0 0 1 1 3]\n",
      " [0 0 2 1 1]\n",
      " [0 0 0 1 1]] \n",
      "\n",
      "[[0 0 0 0 0]\n",
      " [0 0 0 0 0]\n",
      " [0 0 1 1 3]\n",
      " [0 0 2 1 1]\n",
      " [0 0 1 1 1]] \n",
      "\n",
      "[[0 0 0 0 0]\n",
      " [0 0 0 0 0]\n",
      " [0 0 1 1 3]\n",
      " [0 0 2 1 1]\n",
      " [0 1 1 1 1]] \n",
      "\n",
      "[[0 0 0 0 0]\n",
      " [0 0 1 0 0]\n",
      " [0 0 1 1 3]\n",
      " [0 0 2 1 1]\n",
      " [0 1 1 1 1]] \n",
      "\n",
      "[[0 0 0 0 0]\n",
      " [0 0 1 0 0]\n",
      " [0 0 1 1 3]\n",
      " [0 0 2 1 1]\n",
      " [1 1 1 1 1]] \n",
      "\n",
      "[[0 0 1 0 0]\n",
      " [0 0 1 0 0]\n",
      " [0 0 1 1 3]\n",
      " [0 0 2 1 1]\n",
      " [1 1 1 1 1]] \n",
      "\n"
     ]
    }
   ],
   "source": [
    "board = initialise_starting_points(init_board(5), 3)\n",
    "agents = assign_agent_states(board, 3)\n",
    "\n",
    "def show_pushes(board, agents):\n",
    "    print(board, '\\n')\n",
    "    agent_choice = 1\n",
    "    agent = agents[agent_choice-1]\n",
    "    for i in range(10):\n",
    "        board, agent = push(board, agent)\n",
    "        print(board, '\\n')\n",
    "\n",
    "show_pushes(board, agents)"
   ]
  },
  {
   "cell_type": "code",
   "execution_count": null,
   "metadata": {},
   "outputs": [],
   "source": []
  }
 ],
 "metadata": {
  "kernelspec": {
   "display_name": "instadeep",
   "language": "python",
   "name": "python3"
  },
  "language_info": {
   "codemirror_mode": {
    "name": "ipython",
    "version": 3
   },
   "file_extension": ".py",
   "mimetype": "text/x-python",
   "name": "python",
   "nbconvert_exporter": "python",
   "pygments_lexer": "ipython3",
   "version": "3.10.9"
  },
  "orig_nbformat": 4,
  "vscode": {
   "interpreter": {
    "hash": "20127a1fd268735bab9876ae34d39dda9f61a5f5304340304e7b02a295ef9f15"
   }
  }
 },
 "nbformat": 4,
 "nbformat_minor": 2
}
