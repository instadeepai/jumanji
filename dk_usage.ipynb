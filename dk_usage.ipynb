{
 "cells": [
  {
   "attachments": {},
   "cell_type": "markdown",
   "metadata": {},
   "source": [
    "### Custom Board Generation and Routing Usage:\n",
    "**args for the Route class:\n",
    "\n",
    "        board_init:str (optional) = 'random', # one of 'randy' or 'random'\n",
    "        rows: int = 12,\n",
    "        cols: int = 12,\n",
    "        num_agents: int = 3,\n",
    "        instance_generator_type: str = \"randy\", # one of 'random' or 'randy'\n",
    "        reward_per_timestep: float = -0.03,\n",
    "        reward_for_connection: float = 0.1,\n",
    "        reward_for_blocked: float = -0.1,\n",
    "        reward_for_noop: float = -0.01,\n",
    "        step_limit: int = 50,\n",
    "        reward_for_terminal_step: float = -0.1,\n",
    "        renderer: Optional[env_viewer.RoutingViewer] = None"
   ]
  },
  {
   "cell_type": "code",
   "execution_count": null,
   "metadata": {},
   "outputs": [],
   "source": [
    "# basic usage\n",
    "from routing import route\n",
    "router = route.Route()\n",
    "router.route(**router.__dict__)"
   ]
  },
  {
   "cell_type": "code",
   "execution_count": null,
   "metadata": {},
   "outputs": [],
   "source": [
    "# advanced usage - other options are the routing.env.Routing instance attributes\n",
    "router = route.Route(instance_generator_type='randy',\n",
    "                     rows=25,\n",
    "                     cols=20,\n",
    "                     num_agents=12,\n",
    "                     step_limit=30)\n",
    "router.route(time_steps=50, fps=15, **router.__dict__)"
   ]
  },
  {
   "cell_type": "code",
   "execution_count": null,
   "metadata": {},
   "outputs": [],
   "source": []
  }
 ],
 "metadata": {
  "kernelspec": {
   "display_name": "instadeep",
   "language": "python",
   "name": "python3"
  },
  "language_info": {
   "codemirror_mode": {
    "name": "ipython",
    "version": 3
   },
   "file_extension": ".py",
   "mimetype": "text/x-python",
   "name": "python",
   "nbconvert_exporter": "python",
   "pygments_lexer": "ipython3",
   "version": "3.10.9"
  },
  "orig_nbformat": 4,
  "vscode": {
   "interpreter": {
    "hash": "20127a1fd268735bab9876ae34d39dda9f61a5f5304340304e7b02a295ef9f15"
   }
  }
 },
 "nbformat": 4,
 "nbformat_minor": 2
}
