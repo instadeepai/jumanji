{
 "cells": [
  {
   "attachments": {},
   "cell_type": "markdown",
   "metadata": {},
   "source": [
    "### Custom Board Generation and Routing Usage:\n",
    "**args for the Route class:\n",
    "\n",
    "        board_init:str (optional) = 'random', # one of 'randy' or 'random'\n",
    "        rows: int = 12,\n",
    "        cols: int = 12,\n",
    "        num_agents: int = 3,\n",
    "        instance_generator_type: str = \"randy\", # one of 'random' or 'randy'\n",
    "        reward_per_timestep: float = -0.03,\n",
    "        reward_for_connection: float = 0.1,\n",
    "        reward_for_blocked: float = -0.1,\n",
    "        reward_for_noop: float = -0.01,\n",
    "        step_limit: int = 50,\n",
    "        reward_for_terminal_step: float = -0.1,\n",
    "        renderer: Optional[env_viewer.RoutingViewer] = None"
   ]
  },
  {
   "cell_type": "code",
   "execution_count": 3,
   "metadata": {},
   "outputs": [],
   "source": [
    "from routing import route"
   ]
  },
  {
   "cell_type": "code",
   "execution_count": 2,
   "metadata": {},
   "outputs": [],
   "source": [
    "# basic usage\n",
    "router = route.Route(instance_generator_type='randy')\n",
    "router.route(**router.__dict__)"
   ]
  },
  {
   "cell_type": "code",
   "execution_count": null,
   "metadata": {},
   "outputs": [],
   "source": [
    "# advanced usage - other options are the routing.env.Routing instance attributes\n",
    "router = route.Route(instance_generator_type='randy',\n",
    "                     rows=25,\n",
    "                     cols=20,\n",
    "                     num_agents=12,\n",
    "                     step_limit=30)\n",
    "router.route(time_steps=50, fps=15, **router.__dict__)"
   ]
  },
  {
   "attachments": {},
   "cell_type": "markdown",
   "metadata": {},
   "source": [
    "### To use with _different_ custom boards:\n",
    "    1) Place your .py file outputting NumPy arrays as a package inside 'Jumanji_Routing/routing'\n",
    "    2) In 'Jumanji_Routing/routing/instance_generator.py' copy the `CustomInstanceGenerator` class and paste it below.\n",
    "    3) Rename the class if you like, change the __init__s, etc.\n",
    "    4) Under __call__, where you see 'edit this line here' as a comment, change the function to yours from step (1).\n",
    "    5) Make sure the output you provide (important: call it \"pins\") is a NumPy array which follows the same format as required by Jumanji.\n",
    "    6) In 'Jumanji_Routing/routing/env.py', create a new line after `elif instance_generator_type == \"new_name_of_generator\":` so that \n",
    "        instance_generator_obj = CustomInstanceGenerator(self.rows, self.cols, self.num_agents) is now changed with the name of the instance generator you made in (2)\n",
    "        and the input arguments are the ones for the __init__ of that class considered in step (3).\n",
    "    7) Use your board as usual."
   ]
  },
  {
   "cell_type": "code",
   "execution_count": null,
   "metadata": {},
   "outputs": [],
   "source": [
    "# Usage with your custom board, apart from 'instance_generator_type', can do anything with the other args as above.\n",
    "router = route.Route(instance_generator_type='new_name_of_generator',\n",
    "                     rows=25,\n",
    "                     cols=20,\n",
    "                     num_agents=12,\n",
    "                     step_limit=30)\n",
    "router.route(time_steps=50, fps=15, **router.__dict__)"
   ]
  },
  {
   "cell_type": "code",
   "execution_count": null,
   "metadata": {},
   "outputs": [],
   "source": []
  }
 ],
 "metadata": {
  "kernelspec": {
   "display_name": "instadeep",
   "language": "python",
   "name": "python3"
  },
  "language_info": {
   "codemirror_mode": {
    "name": "ipython",
    "version": 3
   },
   "file_extension": ".py",
   "mimetype": "text/x-python",
   "name": "python",
   "nbconvert_exporter": "python",
   "pygments_lexer": "ipython3",
   "version": "3.10.9"
  },
  "orig_nbformat": 4,
  "vscode": {
   "interpreter": {
    "hash": "20127a1fd268735bab9876ae34d39dda9f61a5f5304340304e7b02a295ef9f15"
   }
  }
 },
 "nbformat": 4,
 "nbformat_minor": 2
}
